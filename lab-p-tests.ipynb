{
 "cells": [
  {
   "cell_type": "markdown",
   "id": "6a6caa2b",
   "metadata": {},
   "source": [
    "Exercise 1: One-tailed t-test for Machine Packing Speeds"
   ]
  },
  {
   "cell_type": "code",
   "execution_count": 15,
   "id": "d91f8ac5",
   "metadata": {
    "ExecuteTime": {
     "end_time": "2023-10-18T12:58:10.149413Z",
     "start_time": "2023-10-18T12:58:10.085191Z"
    }
   },
   "outputs": [
    {
     "data": {
      "text/plain": [
       "(-3.3972307061176026, 0.00162112473315899)"
      ]
     },
     "execution_count": 15,
     "metadata": {},
     "output_type": "execute_result"
    }
   ],
   "source": [
    "import pandas as pd\n",
    "from scipy.stats import ttest_ind\n",
    "import re\n",
    "\n",
    "# load the data\n",
    "machine_data = pd.read_csv(r'files_for_lab\\machine.txt', sep='\\t', encoding='UTF-16')\n",
    "\n",
    "\n",
    "# deal with whitesapces\n",
    "\n",
    "old_machine_col = [col for col in machine_data.columns if re.search(r'\\bOld machine\\b', col)][0]\n",
    "\n",
    "# perform the t-test\n",
    "t_stat, p_value = ttest_ind(machine_data['New machine'], machine_data[old_machine_col], equal_var=False)\n",
    "\n",
    "# compute the one-tailed p-value\n",
    "p_value_one_tailed = p_value / 2\n",
    "\n",
    "t_stat, p_value_one_tailed\n"
   ]
  },
  {
   "cell_type": "markdown",
   "id": "d0a2d2bd",
   "metadata": {},
   "source": [
    "The new machine does not pack faster than the old machine, in fact, it could be slower."
   ]
  },
  {
   "cell_type": "markdown",
   "id": "2195a829",
   "metadata": {},
   "source": [
    "Exercise 2: Matched Pairs Test for Pokémon Data"
   ]
  },
  {
   "cell_type": "code",
   "execution_count": 16,
   "id": "c60ee9ea",
   "metadata": {
    "ExecuteTime": {
     "end_time": "2023-10-18T12:58:23.164799Z",
     "start_time": "2023-10-18T12:58:23.128328Z"
    }
   },
   "outputs": [
    {
     "data": {
      "text/plain": [
       "(4.325566393330478, 1.7140303479358558e-05)"
      ]
     },
     "execution_count": 16,
     "metadata": {},
     "output_type": "execute_result"
    }
   ],
   "source": [
    "from scipy.stats import ttest_rel\n",
    "\n",
    "# load Pokémon data\n",
    "pokemon_data = pd.read_csv(r'files_for_lab\\pokemon.csv')\n",
    "\n",
    "# perform the paired t-test\n",
    "t_stat_pokemon, p_value_pokemon = ttest_rel(pokemon_data['Attack'], pokemon_data['Defense'])\n",
    "\n",
    "t_stat_pokemon, p_value_pokemon\n"
   ]
  },
  {
   "cell_type": "markdown",
   "id": "6643bb56",
   "metadata": {},
   "source": [
    "Pokémon's Attack scores are, on average,  higher than their Defense scores"
   ]
  },
  {
   "cell_type": "markdown",
   "id": "e56f4088",
   "metadata": {},
   "source": [
    "Exercise 3: ANOVA for Plasma Etching Process"
   ]
  },
  {
   "cell_type": "code",
   "execution_count": 19,
   "id": "5b693dc7",
   "metadata": {
    "ExecuteTime": {
     "end_time": "2023-10-18T12:59:55.461942Z",
     "start_time": "2023-10-18T12:59:55.442477Z"
    },
    "scrolled": true
   },
   "outputs": [
    {
     "data": {
      "text/plain": [
       "F_onewayResult(statistic=36.87895470100505, pvalue=7.506584272358903e-06)"
      ]
     },
     "execution_count": 19,
     "metadata": {},
     "output_type": "execute_result"
    }
   ],
   "source": [
    "import scipy.stats as stats\n",
    "\n",
    "# load the ANOVA data\n",
    "anova_data = pd.read_excel(r'files_for_lab\\anova_lab_data.xlsx')\n",
    "\n",
    "# perform ANOVA\n",
    "anova_result = stats.f_oneway(anova_data['Etching Rate'][anova_data['Power '] == '160 W'],\n",
    "                              anova_data['Etching Rate'][anova_data['Power '] == '180 W'],\n",
    "                              anova_data['Etching Rate'][anova_data['Power '] == '200 W'])\n",
    "\n",
    "anova_result\n"
   ]
  },
  {
   "cell_type": "markdown",
   "id": "ae61cd62",
   "metadata": {},
   "source": [
    "H0 is the mean etching rate is the same for all power levels of the plasma beam."
   ]
  },
  {
   "cell_type": "markdown",
   "id": "3293bcbb",
   "metadata": {},
   "source": [
    "We can reject the null hypothesis since the p--value is so low."
   ]
  },
  {
   "cell_type": "markdown",
   "id": "d4db5cd4",
   "metadata": {},
   "source": [
    "Changing the power of the plasma beam has a significant effect on the etching rate."
   ]
  }
 ],
 "metadata": {
  "kernelspec": {
   "display_name": "Python 3 (ipykernel)",
   "language": "python",
   "name": "python3"
  },
  "language_info": {
   "codemirror_mode": {
    "name": "ipython",
    "version": 3
   },
   "file_extension": ".py",
   "mimetype": "text/x-python",
   "name": "python",
   "nbconvert_exporter": "python",
   "pygments_lexer": "ipython3",
   "version": "3.11.4"
  }
 },
 "nbformat": 4,
 "nbformat_minor": 5
}
